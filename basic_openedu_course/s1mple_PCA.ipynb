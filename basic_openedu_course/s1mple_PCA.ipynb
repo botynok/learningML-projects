{
  "nbformat": 4,
  "nbformat_minor": 0,
  "metadata": {
    "colab": {
      "provenance": []
    },
    "kernelspec": {
      "name": "python3",
      "display_name": "Python 3"
    },
    "language_info": {
      "name": "python"
    }
  },
  "cells": [
    {
      "cell_type": "markdown",
      "source": [
        "Подключение библиотек"
      ],
      "metadata": {
        "id": "TB6xe3gu1dQ2"
      }
    },
    {
      "cell_type": "code",
      "source": [
        "import numpy as np\n",
        "from sklearn.decomposition import PCA\n",
        "import pandas as pd\n",
        "import matplotlib.pyplot as plt\n",
        "%matplotlib inline"
      ],
      "metadata": {
        "id": "dJUdEGCy1ik1"
      },
      "execution_count": 1,
      "outputs": []
    },
    {
      "cell_type": "markdown",
      "source": [
        "Уменьшение размерности с помощью МГК"
      ],
      "metadata": {
        "id": "NAvYslps6-Gu"
      }
    },
    {
      "cell_type": "code",
      "source": [
        "df = pd.read_csv('https://courses.openedu.ru/assets/courseware/v1/9217064c15d227845c04eca083c04252/asset-v1:ITMOUniversity+MLDATAN+spring_2021_ITMO_bac+type@asset+block/37_25.csv', header=None)\n",
        "pca = PCA(n_components=2, svd_solver='full') #координаты относительно PC1 и PC2\n",
        "pca2 = pca.fit(df).transform(df)\n",
        "pca2[:5]"
      ],
      "metadata": {
        "colab": {
          "base_uri": "https://localhost:8080/"
        },
        "id": "fEGNz35v1yQ-",
        "outputId": "2fce09df-5b90-4d21-f8c9-3e7ac4a47c02"
      },
      "execution_count": 2,
      "outputs": [
        {
          "output_type": "execute_result",
          "data": {
            "text/plain": [
              "array([[-28.2041366 , -11.47269833],\n",
              "       [ 13.96488029, -32.23712129],\n",
              "       [ 16.94166884, -34.21703024],\n",
              "       [-25.55158034, -14.75330912],\n",
              "       [  3.10849996,  41.58302874]])"
            ]
          },
          "metadata": {},
          "execution_count": 2
        }
      ]
    },
    {
      "cell_type": "markdown",
      "source": [
        "Нахождение доли объясненной дисперсии при использовании двух главных компонент, построние графика зависимости доли объясненной дисперсии относительно количества ГК"
      ],
      "metadata": {
        "id": "x0d-GjIS-TE3"
      }
    },
    {
      "cell_type": "code",
      "source": [
        "explained_variance2 = np.round(np.cumsum(pca.explained_variance_ratio_),3)\n",
        "\n",
        "pca = PCA(n_components=10, svd_solver='full')\n",
        "pcaFull = pca.fit(df).transform(df)\n",
        "explained_variance = np.round(np.cumsum(pca.explained_variance_ratio_),3)\n",
        "\n",
        "plt.xlabel(\"Quantity of PC\")\n",
        "plt.ylabel(\"ExpVariance\")\n",
        "plt.plot(np.arange(10), explained_variance, ls = '-')"
      ],
      "metadata": {
        "colab": {
          "base_uri": "https://localhost:8080/",
          "height": 467
        },
        "id": "mAW4Tv3C-tPv",
        "outputId": "68a7c0a5-bd3e-46c1-b4e4-50888094dddb"
      },
      "execution_count": 3,
      "outputs": [
        {
          "output_type": "execute_result",
          "data": {
            "text/plain": [
              "[<matplotlib.lines.Line2D at 0x78d42ffda380>]"
            ]
          },
          "metadata": {},
          "execution_count": 3
        },
        {
          "output_type": "display_data",
          "data": {
            "text/plain": [
              "<Figure size 640x480 with 1 Axes>"
            ],
            "image/png": "[encoded data removed]"
          },
          "metadata": {}
        }
      ]
    }
  ]
}
