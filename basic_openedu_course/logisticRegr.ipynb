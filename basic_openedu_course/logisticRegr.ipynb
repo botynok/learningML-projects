{
 "cells": [
  {
   "cell_type": "markdown",
   "id": "e20b14ea-e682-4b7a-bb0a-067fb285d2bc",
   "metadata": {},
   "source": [
    "Подключение библиотек"
   ]
  },
  {
   "cell_type": "code",
   "execution_count": 61,
   "id": "fa81906c-acce-4aed-8789-970c8c63d424",
   "metadata": {},
   "outputs": [],
   "source": [
    "import pandas as pd\n",
    "from sklearn.linear_model import LogisticRegression\n",
    "from sklearn import metrics\n",
    "import matplotlib.pyplot as plt\n",
    "%matplotlib inline"
   ]
  },
  {
   "cell_type": "markdown",
   "id": "b27b3458-e892-4a0a-82e7-982c0dbf272a",
   "metadata": {},
   "source": [
    "Считывание данных, разделение на предикторы и отклик"
   ]
  },
  {
   "cell_type": "code",
   "execution_count": 62,
   "id": "44364efd-63fa-460d-b2e2-679e70986725",
   "metadata": {},
   "outputs": [
    {
     "data": {
      "text/html": [
       "<div>\n",
       "<style scoped>\n",
       "    .dataframe tbody tr th:only-of-type {\n",
       "        vertical-align: middle;\n",
       "    }\n",
       "\n",
       "    .dataframe tbody tr th {\n",
       "        vertical-align: top;\n",
       "    }\n",
       "\n",
       "    .dataframe thead th {\n",
       "        text-align: right;\n",
       "    }\n",
       "</style>\n",
       "<table border=\"1\" class=\"dataframe\">\n",
       "  <thead>\n",
       "    <tr style=\"text-align: right;\">\n",
       "      <th></th>\n",
       "      <th>chocolate</th>\n",
       "      <th>fruity</th>\n",
       "      <th>caramel</th>\n",
       "      <th>peanutyalmondy</th>\n",
       "      <th>nougat</th>\n",
       "      <th>crispedricewafer</th>\n",
       "      <th>hard</th>\n",
       "      <th>bar</th>\n",
       "      <th>pluribus</th>\n",
       "      <th>sugarpercent</th>\n",
       "      <th>pricepercent</th>\n",
       "      <th>winpercent</th>\n",
       "      <th>Y</th>\n",
       "    </tr>\n",
       "    <tr>\n",
       "      <th>competitorname</th>\n",
       "      <th></th>\n",
       "      <th></th>\n",
       "      <th></th>\n",
       "      <th></th>\n",
       "      <th></th>\n",
       "      <th></th>\n",
       "      <th></th>\n",
       "      <th></th>\n",
       "      <th></th>\n",
       "      <th></th>\n",
       "      <th></th>\n",
       "      <th></th>\n",
       "      <th></th>\n",
       "    </tr>\n",
       "  </thead>\n",
       "  <tbody>\n",
       "    <tr>\n",
       "      <th>100 Grand</th>\n",
       "      <td>1</td>\n",
       "      <td>0</td>\n",
       "      <td>1</td>\n",
       "      <td>0</td>\n",
       "      <td>0</td>\n",
       "      <td>1</td>\n",
       "      <td>0</td>\n",
       "      <td>1</td>\n",
       "      <td>0</td>\n",
       "      <td>0.732</td>\n",
       "      <td>0.860</td>\n",
       "      <td>66.971725</td>\n",
       "      <td>1</td>\n",
       "    </tr>\n",
       "    <tr>\n",
       "      <th>3 Musketeers</th>\n",
       "      <td>1</td>\n",
       "      <td>0</td>\n",
       "      <td>0</td>\n",
       "      <td>0</td>\n",
       "      <td>1</td>\n",
       "      <td>0</td>\n",
       "      <td>0</td>\n",
       "      <td>1</td>\n",
       "      <td>0</td>\n",
       "      <td>0.604</td>\n",
       "      <td>0.511</td>\n",
       "      <td>67.602936</td>\n",
       "      <td>1</td>\n",
       "    </tr>\n",
       "    <tr>\n",
       "      <th>One dime</th>\n",
       "      <td>0</td>\n",
       "      <td>0</td>\n",
       "      <td>0</td>\n",
       "      <td>0</td>\n",
       "      <td>0</td>\n",
       "      <td>0</td>\n",
       "      <td>0</td>\n",
       "      <td>0</td>\n",
       "      <td>0</td>\n",
       "      <td>0.011</td>\n",
       "      <td>0.116</td>\n",
       "      <td>32.261086</td>\n",
       "      <td>0</td>\n",
       "    </tr>\n",
       "    <tr>\n",
       "      <th>One quarter</th>\n",
       "      <td>0</td>\n",
       "      <td>0</td>\n",
       "      <td>0</td>\n",
       "      <td>0</td>\n",
       "      <td>0</td>\n",
       "      <td>0</td>\n",
       "      <td>0</td>\n",
       "      <td>0</td>\n",
       "      <td>0</td>\n",
       "      <td>0.011</td>\n",
       "      <td>0.511</td>\n",
       "      <td>46.116505</td>\n",
       "      <td>0</td>\n",
       "    </tr>\n",
       "    <tr>\n",
       "      <th>Air Heads</th>\n",
       "      <td>0</td>\n",
       "      <td>1</td>\n",
       "      <td>0</td>\n",
       "      <td>0</td>\n",
       "      <td>0</td>\n",
       "      <td>0</td>\n",
       "      <td>0</td>\n",
       "      <td>0</td>\n",
       "      <td>0</td>\n",
       "      <td>0.906</td>\n",
       "      <td>0.511</td>\n",
       "      <td>52.341465</td>\n",
       "      <td>1</td>\n",
       "    </tr>\n",
       "  </tbody>\n",
       "</table>\n",
       "</div>"
      ],
      "text/plain": [
       "                chocolate  fruity  caramel  peanutyalmondy  nougat  \\\n",
       "competitorname                                                       \n",
       "100 Grand               1       0        1               0       0   \n",
       "3 Musketeers            1       0        0               0       1   \n",
       "One dime                0       0        0               0       0   \n",
       "One quarter             0       0        0               0       0   \n",
       "Air Heads               0       1        0               0       0   \n",
       "\n",
       "                crispedricewafer  hard  bar  pluribus  sugarpercent  \\\n",
       "competitorname                                                        \n",
       "100 Grand                      1     0    1         0         0.732   \n",
       "3 Musketeers                   0     0    1         0         0.604   \n",
       "One dime                       0     0    0         0         0.011   \n",
       "One quarter                    0     0    0         0         0.011   \n",
       "Air Heads                      0     0    0         0         0.906   \n",
       "\n",
       "                pricepercent  winpercent  Y  \n",
       "competitorname                               \n",
       "100 Grand              0.860   66.971725  1  \n",
       "3 Musketeers           0.511   67.602936  1  \n",
       "One dime               0.116   32.261086  0  \n",
       "One quarter            0.511   46.116505  0  \n",
       "Air Heads              0.511   52.341465  1  "
      ]
     },
     "execution_count": 62,
     "metadata": {},
     "output_type": "execute_result"
    }
   ],
   "source": [
    "df = pd.read_csv('candy-data.csv', delimiter=',', index_col='competitorname')\n",
    "trainData = df.drop(['Mike & Ike', 'Root Beer Barrels', 'Starburst'])\n",
    "\n",
    "X = pd.DataFrame(trainData.drop(['winpercent', 'Y'], axis=1))\n",
    "y = pd.DataFrame(trainData['Y'])\n",
    "\n",
    "df.head()"
   ]
  },
  {
   "cell_type": "markdown",
   "id": "fb665bd3-7c13-4b11-a732-37f035f8809a",
   "metadata": {},
   "source": [
    "Обучение модели логистической регрессии, вероятность отнесения к позитивному классу некоторых объектов из тестовых данных"
   ]
  },
  {
   "cell_type": "code",
   "execution_count": 63,
   "id": "93af1e28-14fc-4650-a5f9-e240dce9045f",
   "metadata": {},
   "outputs": [
    {
     "name": "stdout",
     "output_type": "stream",
     "text": [
      "Werthers Original Caramel probability - [[0.44772981 0.55227019]]\n",
      "Super Bubble probability -  [[0.68384254 0.31615746]]\n"
     ]
    }
   ],
   "source": [
    "reg = LogisticRegression(random_state=2019, solver='lbfgs').fit(X, y.values.ravel())\n",
    "\n",
    "testDf = pd.read_csv('candy-test.csv', delimiter=',', index_col='competitorname')\n",
    "X_test = pd.DataFrame(testDf.drop(['Y'], axis=1))\n",
    "Y_pred = reg.predict(X_test) #обучение с отсечением 0.5\n",
    "Y_pred_probs = reg.predict_proba(X_test) #рассчет вероятностей \n",
    "\n",
    "originCar = testDf.loc['Werthers Original Caramel',:].to_frame().T\n",
    "firstProb = reg.predict_proba(originCar.drop(['Y'], axis=1))\n",
    "\n",
    "supBub = testDf.loc['Super Bubble',:].to_frame().T\n",
    "secProb = reg.predict_proba(supBub.drop(['Y'], axis=1))\n",
    "\n",
    "print('Werthers Original Caramel probability -', firstProb)\n",
    "print('Super Bubble probability - ', secProb)"
   ]
  },
  {
   "cell_type": "markdown",
   "id": "0ee7ea9b-0219-4d71-b97d-b3b2ff92fb0f",
   "metadata": {},
   "source": [
    "Вычислим точность построенной модели"
   ]
  },
  {
   "cell_type": "code",
   "execution_count": 64,
   "id": "9bc89d95-3405-4d55-a799-a9a2ce6c858c",
   "metadata": {},
   "outputs": [
    {
     "data": {
      "text/plain": [
       "0.8799999999999999"
      ]
     },
     "execution_count": 64,
     "metadata": {},
     "output_type": "execute_result"
    }
   ],
   "source": [
    "Y_true = (testDf['Y'].to_frame().T).values.ravel()\n",
    "Y_pred_probs_class_1 = Y_pred_probs[:, 1]\n",
    "fpr, tpr, _ = metrics.roc_curve(Y_true, Y_pred)\n",
    "metrics.roc_auc_score(Y_true, Y_pred_probs_class_1) #AUC"
   ]
  },
  {
   "cell_type": "code",
   "execution_count": 65,
   "id": "477814bd-6508-4811-a662-04f09030fba8",
   "metadata": {},
   "outputs": [
    {
     "data": {
      "text/plain": [
       "0.6"
      ]
     },
     "execution_count": 65,
     "metadata": {},
     "output_type": "execute_result"
    }
   ],
   "source": [
    "metrics.recall_score(Y_true, Y_pred)"
   ]
  },
  {
   "cell_type": "code",
   "execution_count": 66,
   "id": "b043e93e-d5af-42a8-a6e6-7f0271b57d09",
   "metadata": {},
   "outputs": [
    {
     "data": {
      "text/plain": [
       "0.5"
      ]
     },
     "execution_count": 66,
     "metadata": {},
     "output_type": "execute_result"
    }
   ],
   "source": [
    "metrics.precision_score(Y_true, Y_pred)"
   ]
  },
  {
   "cell_type": "code",
   "execution_count": null,
   "id": "0f18514a-f5d7-4099-806f-9e3bd13f3a00",
   "metadata": {},
   "outputs": [],
   "source": []
  }
 ],
 "metadata": {
  "kernelspec": {
   "display_name": "Python 3 (ipykernel)",
   "language": "python",
   "name": "python3"
  },
  "language_info": {
   "codemirror_mode": {
    "name": "ipython",
    "version": 3
   },
   "file_extension": ".py",
   "mimetype": "text/x-python",
   "name": "python",
   "nbconvert_exporter": "python",
   "pygments_lexer": "ipython3",
   "version": "3.11.4"
  }
 },
 "nbformat": 4,
 "nbformat_minor": 5
}
