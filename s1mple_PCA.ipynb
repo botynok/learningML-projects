{
  "nbformat": 4,
  "nbformat_minor": 0,
  "metadata": {
    "colab": {
      "provenance": []
    },
    "kernelspec": {
      "name": "python3",
      "display_name": "Python 3"
    },
    "language_info": {
      "name": "python"
    }
  },
  "cells": [
    {
      "cell_type": "markdown",
      "source": [
        "Подключим библиотеки"
      ],
      "metadata": {
        "id": "TB6xe3gu1dQ2"
      }
    },
    {
      "cell_type": "code",
      "source": [
        "import numpy as np\n",
        "from sklearn.decomposition import PCA\n",
        "import pandas as pd\n",
        "import matplotlib.pyplot as plt\n",
        "%matplotlib inline"
      ],
      "metadata": {
        "id": "dJUdEGCy1ik1"
      },
      "execution_count": 42,
      "outputs": []
    },
    {
      "cell_type": "markdown",
      "source": [
        "Считаем данные, уменьшим размерность"
      ],
      "metadata": {
        "id": "NAvYslps6-Gu"
      }
    },
    {
      "cell_type": "code",
      "source": [
        "df = pd.read_csv('https://courses.openedu.ru/assets/courseware/v1/9217064c15d227845c04eca083c04252/asset-v1:ITMOUniversity+MLDATAN+spring_2021_ITMO_bac+type@asset+block/37_25.csv', header=None)\n",
        "pca = PCA(n_components=2, svd_solver='full') #координаты относительно PC1 и PC2\n",
        "pca2 = pca.fit(df).transform(df)\n",
        "pca2[:5]"
      ],
      "metadata": {
        "colab": {
          "base_uri": "https://localhost:8080/"
        },
        "id": "fEGNz35v1yQ-",
        "outputId": "03f91f2a-5ad3-4554-d019-eb32bdc2ac3f"
      },
      "execution_count": 51,
      "outputs": [
        {
          "output_type": "execute_result",
          "data": {
            "text/plain": [
              "array([[-28.2041366 , -11.47269833],\n",
              "       [ 13.96488029, -32.23712129],\n",
              "       [ 16.94166884, -34.21703024],\n",
              "       [-25.55158034, -14.75330912],\n",
              "       [  3.10849996,  41.58302874]])"
            ]
          },
          "metadata": {},
          "execution_count": 51
        }
      ]
    },
    {
      "cell_type": "markdown",
      "source": [
        "Найдем долю объясненной дисперсии при использование двух главных компонент, построим график зависимости доли объясненной дисперсии относительно количества ГК"
      ],
      "metadata": {
        "id": "x0d-GjIS-TE3"
      }
    },
    {
      "cell_type": "code",
      "source": [
        "explained_variance2 = np.round(np.cumsum(pca.explained_variance_ratio_),3)\n",
        "explained_variance2\n",
        "\n",
        "pca = PCA(n_components=10, svd_solver='full')\n",
        "pcaFull = pca.fit(df).transform(df)\n",
        "explained_variance = np.round(np.cumsum(pca.explained_variance_ratio_),3)\n",
        "plt.plot(np.arange(10), explained_variance, ls = '-')"
      ],
      "metadata": {
        "colab": {
          "base_uri": "https://localhost:8080/",
          "height": 448
        },
        "id": "mAW4Tv3C-tPv",
        "outputId": "822f943b-ea43-49a8-fdbb-d1ce8b625c74"
      },
      "execution_count": 53,
      "outputs": [
        {
          "output_type": "execute_result",
          "data": {
            "text/plain": [
              "[<matplotlib.lines.Line2D at 0x7e52828525c0>]"
            ]
          },
          "metadata": {},
          "execution_count": 53
        },
        {
          "output_type": "display_data",
          "data": {
            "text/plain": [
              "<Figure size 640x480 with 1 Axes>"
            ],
            "image/png": "[encoded data removed]"
          },
          "metadata": {}
        }
      ]
    }
  ]
}